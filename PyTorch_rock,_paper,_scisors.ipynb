{
  "nbformat": 4,
  "nbformat_minor": 0,
  "metadata": {
    "colab": {
      "provenance": [],
      "authorship_tag": "ABX9TyNR0gfTUvGpE3DbyYroDkoy",
      "include_colab_link": true
    },
    "kernelspec": {
      "name": "python3",
      "display_name": "Python 3"
    },
    "language_info": {
      "name": "python"
    }
  },
  "cells": [
    {
      "cell_type": "markdown",
      "metadata": {
        "id": "view-in-github",
        "colab_type": "text"
      },
      "source": [
        "<a href=\"https://colab.research.google.com/github/tszalama/ml_rockpaperscissors/blob/main/PyTorch_rock%2C_paper%2C_scisors.ipynb\" target=\"_parent\"><img src=\"https://colab.research.google.com/assets/colab-badge.svg\" alt=\"Open In Colab\"/></a>"
      ]
    },
    {
      "cell_type": "code",
      "execution_count": 1,
      "metadata": {
        "id": "Psnhns__yJVK"
      },
      "outputs": [],
      "source": [
        "import torch\n",
        "import torch.nn as nn\n",
        "torch.manual_seed(42)\n",
        "import torch.utils.data as data"
      ]
    },
    {
      "cell_type": "markdown",
      "source": [
        "Model definition"
      ],
      "metadata": {
        "id": "CMmplK-ayqBe"
      }
    },
    {
      "cell_type": "code",
      "source": [
        "class Model(nn.Module):\n",
        "  def __init__(self, num_inputs, num_outputs):\n",
        "      super().__init__()\n",
        "      # Initialize the first layer\n",
        "      self.linear = nn.Linear(num_inputs, 3)\n",
        "      # Initialize the second layer\n",
        "      self.linear2 = nn.Linear(3, num_outputs)\n",
        "\n",
        "      # Activation functions\n",
        "      self.ReLU = nn.ReLU()\n",
        "      self.Sigmoid = nn.Sigmoid()\n",
        "\n",
        "  def forward(self, x):\n",
        "      # Reshape the array to a format where both players' moves are encoded in a single 6-float value array\n",
        "      x = x.reshape(-1, 6)\n",
        "      # Apply layers and activation functions\n",
        "      x = self.linear(x)\n",
        "      x = self.ReLU(x)\n",
        "      x = self.linear2(x)\n",
        "      x = self.Sigmoid(x)\n",
        "      return x"
      ],
      "metadata": {
        "id": "e5s9TVepyLEJ"
      },
      "execution_count": 9,
      "outputs": []
    },
    {
      "cell_type": "markdown",
      "source": [
        "Data loader"
      ],
      "metadata": {
        "id": "cKyaNXqkysAC"
      }
    },
    {
      "cell_type": "code",
      "source": [
        "class RPSDataset(data.Dataset):\n",
        "    def __init__(self):\n",
        "      super().__init__()\n",
        "      # Results in the format [[player 1 result, player 2 result]]\n",
        "      results = [[1, 1], [0, 1], [1, 0], [0, 1], [1, 1], [1, 0], [0, 1], [1, 0], [1, 1]]\n",
        "      # Input data for player 1 and 2 in the format [[[Rock, Scissors, Paper], [Rock, Scissors, Paper]]]\n",
        "      input_data = [  # expected results:\n",
        "          [[0, 0, 1], [0, 0, 1]],  # 1, 1\n",
        "          [[0, 0, 1], [0, 1, 0]],  # 0, 1\n",
        "          [[0, 0, 1], [1, 0, 0]],  # 1, 0\n",
        "          [[0, 1, 0], [0, 0, 1]],  # 0, 1\n",
        "          [[0, 1, 0], [0, 1, 0]],  # 1, 1\n",
        "          [[0, 1, 0], [1, 0, 0]],  # 1, 0\n",
        "          [[1, 0, 0], [0, 0, 1]],  # 0, 1\n",
        "          [[1, 0, 0], [0, 1, 0]],  # 1, 0\n",
        "          [[1, 0, 0], [1, 0, 0]]   # 1, 1\n",
        "      ]\n",
        "\n",
        "      self.input_data = torch.tensor(input_data, dtype=torch.float32)\n",
        "      self.results = torch.tensor(results, dtype=torch.float32)\n",
        "\n",
        "    def __len__(self):\n",
        "        return 9\n",
        "\n",
        "    def __getitem__(self, idx):\n",
        "        data_point = self.input_data[idx]\n",
        "        data_label = self.results[idx]\n",
        "        return data_point, data_label"
      ],
      "metadata": {
        "id": "8Fq2-tERyfGN"
      },
      "execution_count": 7,
      "outputs": []
    },
    {
      "cell_type": "markdown",
      "source": [
        "Initialize classes"
      ],
      "metadata": {
        "id": "Zp5NqBu_zIuv"
      }
    },
    {
      "cell_type": "code",
      "source": [
        "dataset = RPSDataset()\n",
        "data_loader = data.DataLoader(dataset, batch_size=1, shuffle=True)\n",
        "\n",
        "model = Model(6,2)\n",
        "\n",
        "optimizer = torch.optim.SGD(model.parameters(), lr=0.05)\n",
        "\n",
        "lossfn = nn.MSELoss()"
      ],
      "metadata": {
        "id": "n9JAxOwFzGsF"
      },
      "execution_count": 10,
      "outputs": []
    },
    {
      "cell_type": "markdown",
      "source": [
        "Training loop"
      ],
      "metadata": {
        "id": "iY9Qz0T_zWPO"
      }
    },
    {
      "cell_type": "code",
      "source": [
        "for epoch in range(2000):\n",
        "  for data_inputs, data_labels in data_loader:\n",
        "    result = model(data_inputs)\n",
        "    result = result.squeeze(dim=1) #reshape tensor\n",
        "    \n",
        "    loss = lossfn(result, data_labels)\n",
        "    \n",
        "    # backpropagation\n",
        "    optimizer.zero_grad() \n",
        "    loss.backward()\n",
        "    \n",
        "    # adjust params\n",
        "    optimizer.step()"
      ],
      "metadata": {
        "id": "coyU_XkozTV-"
      },
      "execution_count": 12,
      "outputs": []
    },
    {
      "cell_type": "code",
      "source": [
        "print(\"\\nResults after training:\\n\")\n",
        "with torch.no_grad():\n",
        "  for data_inputs, data_labels in data_loader:\n",
        "    print(f'Expected: {data_labels.tolist()}, Result: {torch.round(model(data_inputs),decimals=0).tolist()}, Losss:{lossfn(model(data_inputs).squeeze(dim=1),data_labels).tolist()}\\n')"
      ],
      "metadata": {
        "colab": {
          "base_uri": "https://localhost:8080/"
        },
        "id": "oClw6mQLzqjm",
        "outputId": "88e11439-b40a-4505-bac5-a978fb219d05"
      },
      "execution_count": 15,
      "outputs": [
        {
          "output_type": "stream",
          "name": "stdout",
          "text": [
            "\n",
            "Results after training:\n",
            "\n",
            "Expected: [[0.0, 1.0]], Result: [[0.0, 1.0]], Losss:0.000943805614951998\n",
            "\n",
            "Expected: [[1.0, 1.0]], Result: [[1.0, 1.0]], Losss:0.001756343524903059\n",
            "\n",
            "Expected: [[0.0, 1.0]], Result: [[0.0, 1.0]], Losss:0.0007163074915297329\n",
            "\n",
            "Expected: [[1.0, 1.0]], Result: [[1.0, 1.0]], Losss:0.0003866813494823873\n",
            "\n",
            "Expected: [[1.0, 1.0]], Result: [[1.0, 1.0]], Losss:0.016681300476193428\n",
            "\n",
            "Expected: [[1.0, 0.0]], Result: [[1.0, 0.0]], Losss:0.003906365483999252\n",
            "\n",
            "Expected: [[1.0, 0.0]], Result: [[1.0, 0.0]], Losss:0.0014436400961130857\n",
            "\n",
            "Expected: [[0.0, 1.0]], Result: [[0.0, 1.0]], Losss:0.009243005886673927\n",
            "\n",
            "Expected: [[1.0, 0.0]], Result: [[1.0, 0.0]], Losss:1.371883899992099e-05\n",
            "\n"
          ]
        }
      ]
    }
  ]
}